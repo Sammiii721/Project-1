{
 "cells": [
  {
   "cell_type": "markdown",
   "id": "e294a112",
   "metadata": {},
   "source": [
    "# Capstone Project 1 -  Ad A/B Testing with Z test\n",
    "\n",
    "To: Magnimind Academy\n",
    "\n",
    "From: Sammi C\n",
    "\n",
    "Date of Submission: 31.10.2022"
   ]
  },
  {
   "cell_type": "markdown",
   "id": "7a91c745",
   "metadata": {},
   "source": [
    "## Introduction\n",
    "\n",
    "The objective of this project is to examine the effects of user engagement after seeing Ad A or Ad B\n",
    "\n",
    "## Problem\n",
    "An advertising company has developed a new ad to have users engage with their questionnaire. The company has shown the new ad to some users and a dummy ad to others and wants their data analyst team to interpret the results. Does the new ad generate more responses to their questionnaire? Is it statistically significant? Is the company justified in using the new ad? \n",
    "\n",
    "A/B testing is common in the business world and is a way to compare two versions of something to figure out which performs better. Figuring out which ad users prefer is a real life business problem that would be expected to know how to solve as a business data analyst. \n",
    "\n",
    "\n",
    "## Data\n",
    "\n",
    "Dataset is found on kaggle from an advertising company. https://www.kaggle.com/osuolaleemmanuel/ad-ab-testing\n",
    "\n",
    "\n",
    "### Columns Description\n",
    "auction_id: the unique id of the online user who has been presented the BIO. In standard terminologies this is called an impression id. The user may see the BIO questionnaire but choose not to respond. In that case both the yes and no columns are zero.\n",
    "\n",
    "experiment: which group the user belongs to - control or exposed.\n",
    "\n",
    "control: users who have been shown a dummy ad\n",
    "exposed: users who have been shown a creative, an online interactive ad, with the SmartAd brand.\n",
    "date: the date in YYYY-MM-DD format\n",
    "\n",
    "hour: the hour of the day in HH format.\n",
    "\n",
    "device_make: the name of the type of device the user has e.g. Samsung\n",
    "\n",
    "platform_os: the id of the OS the user has.\n",
    "\n",
    "browser: the name of the browser the user uses to see the BIO questionnaire.\n",
    "\n",
    "yes: 1 if the user chooses the “Yes” radio button for the BIO questionnaire.\n",
    "\n",
    "no: 1 if the user chooses the “No” radio button for the BIO questionnaire."
   ]
  },
  {
   "cell_type": "markdown",
   "id": "19d3241e",
   "metadata": {},
   "source": [
    "## Data Science Approach\n",
    "\n",
    "·         Data wrangling/ data cleaning\n",
    "\n",
    "·         EDA - exploring the data\n",
    "\n",
    "·         Modeling - A/B testin\n",
    "·         Interpretation"
   ]
  },
  {
   "cell_type": "code",
   "execution_count": 1,
   "id": "e2ddee67",
   "metadata": {},
   "outputs": [],
   "source": [
    "# import necessary libraries\n",
    "import pandas as pd\n",
    "import numpy as np\n",
    "\n",
    "import seaborn as sns\n",
    "import matplotlib.pyplot as plt\n",
    "\n",
    "import scipy.stats as stats\n",
    "from scipy.stats import norm\n",
    "from scipy.stats import binom"
   ]
  },
  {
   "cell_type": "code",
   "execution_count": 2,
   "id": "f170bd2f",
   "metadata": {},
   "outputs": [],
   "source": [
    "# data imports\n",
    "path = 'D:/online course/Magnimind academy/Full Data Bootcamp/CAPSTONE PROJECT-1/archive/AdSmartABdata - AdSmartABdata.csv'\n",
    "df = pd.read_csv(path)"
   ]
  },
  {
   "cell_type": "markdown",
   "id": "f7ce07e4",
   "metadata": {},
   "source": [
    "### Data wrangling/ data cleaning & EDA - exploratory data analysis"
   ]
  },
  {
   "cell_type": "code",
   "execution_count": 3,
   "id": "3009899e",
   "metadata": {
    "scrolled": true
   },
   "outputs": [
    {
     "data": {
      "text/plain": [
       "Index(['auction_id', 'experiment', 'date', 'hour', 'device_make',\n",
       "       'platform_os', 'browser', 'yes', 'no'],\n",
       "      dtype='object')"
      ]
     },
     "execution_count": 3,
     "metadata": {},
     "output_type": "execute_result"
    }
   ],
   "source": [
    "# check data index\n",
    "df.columns"
   ]
  },
  {
   "cell_type": "code",
   "execution_count": 4,
   "id": "0d2e65df",
   "metadata": {},
   "outputs": [
    {
     "name": "stdout",
     "output_type": "stream",
     "text": [
      "<class 'pandas.core.frame.DataFrame'>\n",
      "RangeIndex: 8077 entries, 0 to 8076\n",
      "Data columns (total 9 columns):\n",
      " #   Column       Non-Null Count  Dtype \n",
      "---  ------       --------------  ----- \n",
      " 0   auction_id   8077 non-null   object\n",
      " 1   experiment   8077 non-null   object\n",
      " 2   date         8077 non-null   object\n",
      " 3   hour         8077 non-null   int64 \n",
      " 4   device_make  8077 non-null   object\n",
      " 5   platform_os  8077 non-null   int64 \n",
      " 6   browser      8077 non-null   object\n",
      " 7   yes          8077 non-null   int64 \n",
      " 8   no           8077 non-null   int64 \n",
      "dtypes: int64(4), object(5)\n",
      "memory usage: 568.0+ KB\n"
     ]
    }
   ],
   "source": [
    "# check null numbers & data types\n",
    "df.info()"
   ]
  },
  {
   "cell_type": "code",
   "execution_count": 5,
   "id": "36b32162",
   "metadata": {},
   "outputs": [
    {
     "data": {
      "text/plain": [
       "(8077, 9)"
      ]
     },
     "execution_count": 5,
     "metadata": {},
     "output_type": "execute_result"
    }
   ],
   "source": [
    "# check how many columns & columns\n",
    "df.shape"
   ]
  },
  {
   "cell_type": "code",
   "execution_count": 6,
   "id": "e698d62f",
   "metadata": {},
   "outputs": [
    {
     "data": {
      "text/plain": [
       "2"
      ]
     },
     "execution_count": 6,
     "metadata": {},
     "output_type": "execute_result"
    }
   ],
   "source": [
    "# check dimensions\n",
    "df.ndim"
   ]
  },
  {
   "cell_type": "code",
   "execution_count": 7,
   "id": "47926ea1",
   "metadata": {},
   "outputs": [
    {
     "data": {
      "text/html": [
       "<div>\n",
       "<style scoped>\n",
       "    .dataframe tbody tr th:only-of-type {\n",
       "        vertical-align: middle;\n",
       "    }\n",
       "\n",
       "    .dataframe tbody tr th {\n",
       "        vertical-align: top;\n",
       "    }\n",
       "\n",
       "    .dataframe thead th {\n",
       "        text-align: right;\n",
       "    }\n",
       "</style>\n",
       "<table border=\"1\" class=\"dataframe\">\n",
       "  <thead>\n",
       "    <tr style=\"text-align: right;\">\n",
       "      <th></th>\n",
       "      <th>auction_id</th>\n",
       "      <th>experiment</th>\n",
       "      <th>date</th>\n",
       "      <th>hour</th>\n",
       "      <th>device_make</th>\n",
       "      <th>platform_os</th>\n",
       "      <th>browser</th>\n",
       "      <th>yes</th>\n",
       "      <th>no</th>\n",
       "    </tr>\n",
       "  </thead>\n",
       "  <tbody>\n",
       "    <tr>\n",
       "      <th>0</th>\n",
       "      <td>0008ef63-77a7-448b-bd1e-075f42c55e39</td>\n",
       "      <td>exposed</td>\n",
       "      <td>2020-07-10</td>\n",
       "      <td>8</td>\n",
       "      <td>Generic Smartphone</td>\n",
       "      <td>6</td>\n",
       "      <td>Chrome Mobile</td>\n",
       "      <td>0</td>\n",
       "      <td>0</td>\n",
       "    </tr>\n",
       "    <tr>\n",
       "      <th>1</th>\n",
       "      <td>000eabc5-17ce-4137-8efe-44734d914446</td>\n",
       "      <td>exposed</td>\n",
       "      <td>2020-07-07</td>\n",
       "      <td>10</td>\n",
       "      <td>Generic Smartphone</td>\n",
       "      <td>6</td>\n",
       "      <td>Chrome Mobile</td>\n",
       "      <td>0</td>\n",
       "      <td>0</td>\n",
       "    </tr>\n",
       "    <tr>\n",
       "      <th>2</th>\n",
       "      <td>0016d14a-ae18-4a02-a204-6ba53b52f2ed</td>\n",
       "      <td>exposed</td>\n",
       "      <td>2020-07-05</td>\n",
       "      <td>2</td>\n",
       "      <td>E5823</td>\n",
       "      <td>6</td>\n",
       "      <td>Chrome Mobile WebView</td>\n",
       "      <td>0</td>\n",
       "      <td>1</td>\n",
       "    </tr>\n",
       "    <tr>\n",
       "      <th>3</th>\n",
       "      <td>00187412-2932-4542-a8ef-3633901c98d9</td>\n",
       "      <td>control</td>\n",
       "      <td>2020-07-03</td>\n",
       "      <td>15</td>\n",
       "      <td>Samsung SM-A705FN</td>\n",
       "      <td>6</td>\n",
       "      <td>Facebook</td>\n",
       "      <td>0</td>\n",
       "      <td>0</td>\n",
       "    </tr>\n",
       "    <tr>\n",
       "      <th>4</th>\n",
       "      <td>001a7785-d3fe-4e11-a344-c8735acacc2c</td>\n",
       "      <td>control</td>\n",
       "      <td>2020-07-03</td>\n",
       "      <td>15</td>\n",
       "      <td>Generic Smartphone</td>\n",
       "      <td>6</td>\n",
       "      <td>Chrome Mobile</td>\n",
       "      <td>0</td>\n",
       "      <td>0</td>\n",
       "    </tr>\n",
       "  </tbody>\n",
       "</table>\n",
       "</div>"
      ],
      "text/plain": [
       "                             auction_id experiment        date  hour  \\\n",
       "0  0008ef63-77a7-448b-bd1e-075f42c55e39    exposed  2020-07-10     8   \n",
       "1  000eabc5-17ce-4137-8efe-44734d914446    exposed  2020-07-07    10   \n",
       "2  0016d14a-ae18-4a02-a204-6ba53b52f2ed    exposed  2020-07-05     2   \n",
       "3  00187412-2932-4542-a8ef-3633901c98d9    control  2020-07-03    15   \n",
       "4  001a7785-d3fe-4e11-a344-c8735acacc2c    control  2020-07-03    15   \n",
       "\n",
       "          device_make  platform_os                browser  yes  no  \n",
       "0  Generic Smartphone            6          Chrome Mobile    0   0  \n",
       "1  Generic Smartphone            6          Chrome Mobile    0   0  \n",
       "2               E5823            6  Chrome Mobile WebView    0   1  \n",
       "3   Samsung SM-A705FN            6               Facebook    0   0  \n",
       "4  Generic Smartphone            6          Chrome Mobile    0   0  "
      ]
     },
     "execution_count": 7,
     "metadata": {},
     "output_type": "execute_result"
    }
   ],
   "source": [
    "# check data format\n",
    "df.head()"
   ]
  },
  {
   "cell_type": "code",
   "execution_count": 8,
   "id": "54230df9",
   "metadata": {},
   "outputs": [
    {
     "data": {
      "text/html": [
       "<div>\n",
       "<style scoped>\n",
       "    .dataframe tbody tr th:only-of-type {\n",
       "        vertical-align: middle;\n",
       "    }\n",
       "\n",
       "    .dataframe tbody tr th {\n",
       "        vertical-align: top;\n",
       "    }\n",
       "\n",
       "    .dataframe thead th {\n",
       "        text-align: right;\n",
       "    }\n",
       "</style>\n",
       "<table border=\"1\" class=\"dataframe\">\n",
       "  <thead>\n",
       "    <tr style=\"text-align: right;\">\n",
       "      <th></th>\n",
       "      <th>hour</th>\n",
       "      <th>platform_os</th>\n",
       "      <th>yes</th>\n",
       "      <th>no</th>\n",
       "    </tr>\n",
       "  </thead>\n",
       "  <tbody>\n",
       "    <tr>\n",
       "      <th>count</th>\n",
       "      <td>8077.000000</td>\n",
       "      <td>8077.000000</td>\n",
       "      <td>8077.000000</td>\n",
       "      <td>8077.000000</td>\n",
       "    </tr>\n",
       "    <tr>\n",
       "      <th>mean</th>\n",
       "      <td>11.615080</td>\n",
       "      <td>5.947134</td>\n",
       "      <td>0.070818</td>\n",
       "      <td>0.083075</td>\n",
       "    </tr>\n",
       "    <tr>\n",
       "      <th>std</th>\n",
       "      <td>5.734879</td>\n",
       "      <td>0.224333</td>\n",
       "      <td>0.256537</td>\n",
       "      <td>0.276013</td>\n",
       "    </tr>\n",
       "    <tr>\n",
       "      <th>min</th>\n",
       "      <td>0.000000</td>\n",
       "      <td>5.000000</td>\n",
       "      <td>0.000000</td>\n",
       "      <td>0.000000</td>\n",
       "    </tr>\n",
       "    <tr>\n",
       "      <th>25%</th>\n",
       "      <td>7.000000</td>\n",
       "      <td>6.000000</td>\n",
       "      <td>0.000000</td>\n",
       "      <td>0.000000</td>\n",
       "    </tr>\n",
       "    <tr>\n",
       "      <th>50%</th>\n",
       "      <td>13.000000</td>\n",
       "      <td>6.000000</td>\n",
       "      <td>0.000000</td>\n",
       "      <td>0.000000</td>\n",
       "    </tr>\n",
       "    <tr>\n",
       "      <th>75%</th>\n",
       "      <td>15.000000</td>\n",
       "      <td>6.000000</td>\n",
       "      <td>0.000000</td>\n",
       "      <td>0.000000</td>\n",
       "    </tr>\n",
       "    <tr>\n",
       "      <th>max</th>\n",
       "      <td>23.000000</td>\n",
       "      <td>7.000000</td>\n",
       "      <td>1.000000</td>\n",
       "      <td>1.000000</td>\n",
       "    </tr>\n",
       "  </tbody>\n",
       "</table>\n",
       "</div>"
      ],
      "text/plain": [
       "              hour  platform_os          yes           no\n",
       "count  8077.000000  8077.000000  8077.000000  8077.000000\n",
       "mean     11.615080     5.947134     0.070818     0.083075\n",
       "std       5.734879     0.224333     0.256537     0.276013\n",
       "min       0.000000     5.000000     0.000000     0.000000\n",
       "25%       7.000000     6.000000     0.000000     0.000000\n",
       "50%      13.000000     6.000000     0.000000     0.000000\n",
       "75%      15.000000     6.000000     0.000000     0.000000\n",
       "max      23.000000     7.000000     1.000000     1.000000"
      ]
     },
     "execution_count": 8,
     "metadata": {},
     "output_type": "execute_result"
    }
   ],
   "source": [
    "# calculating some statistical data\n",
    "df.describe()"
   ]
  },
  {
   "cell_type": "code",
   "execution_count": 9,
   "id": "6386d39a",
   "metadata": {},
   "outputs": [
    {
     "data": {
      "text/plain": [
       "Generic Smartphone    4743\n",
       "iPhone                 433\n",
       "Samsung SM-G960F       203\n",
       "Samsung SM-G973F       154\n",
       "Samsung SM-G950F       148\n",
       "Samsung SM-G930F       100\n",
       "Samsung SM-G975F        97\n",
       "Samsung SM-A202F        88\n",
       "Samsung SM-A405FN       87\n",
       "Samsung SM-J330FN       69\n",
       "Name: device_make, dtype: int64"
      ]
     },
     "execution_count": 9,
     "metadata": {},
     "output_type": "execute_result"
    }
   ],
   "source": [
    "# top 10 device\n",
    "df['device_make'].value_counts()[:10]"
   ]
  },
  {
   "cell_type": "code",
   "execution_count": 10,
   "id": "d3ee6887",
   "metadata": {},
   "outputs": [
    {
     "name": "stdout",
     "output_type": "stream",
     "text": [
      "58.72 %\n"
     ]
    }
   ],
   "source": [
    "# percentage of Gerneric smartphone of all questionnaires\n",
    "print(np.round(100 * (df['device_make'].value_counts()[:10][0] / df.shape[0]), 2), '%')"
   ]
  },
  {
   "cell_type": "code",
   "execution_count": 11,
   "id": "09331eb5",
   "metadata": {},
   "outputs": [
    {
     "name": "stdout",
     "output_type": "stream",
     "text": [
      "unique devices:  269\n",
      "['Generic Smartphone' 'E5823' 'Samsung SM-A705FN' 'Samsung SM-G960F'\n",
      " 'Samsung SM-G973F' 'iPhone' 'Samsung SM-G935F' 'HTC One' 'LG-$2'\n",
      " 'Samsung SM-A202F' 'XT1032' 'COL-L29' 'Samsung SM-N960U1'\n",
      " 'Samsung SM-A715F' 'Samsung SM-G930F' 'I3312' 'Samsung SM-G950F'\n",
      " 'FIG-LX1' 'Samsung SM-G920F' 'MRD-LX1' 'Samsung SM-N950F' 'Moto $2'\n",
      " 'Samsung SM-G970F' 'Samsung GT-I9505' 'Samsung SM-G981B' 'Pixel 3a'\n",
      " 'Samsung SM-J600FN' 'Samsung SM-A105FN' 'OnePlus ONEPLUS A3003' 'POT-LX1'\n",
      " 'Samsung SM-G975F' 'Samsung SM-J330FN' 'Samsung SM-G770F' 'H3311'\n",
      " 'MAR-LX1A' 'HTC One $2' 'Samsung SM-G965F' 'ELE-L09' 'Samsung SM-J415FN'\n",
      " 'Samsung SM-G900F' 'Lenovo A1010a20' 'CLT-L09' 'HTC Desire $2'\n",
      " 'Samsung SM-G980F' 'Samsung SM-G955F' 'Samsung SM-N960F' 'Nexus 5'\n",
      " 'Samsung SM-J260F' 'HTC U11' 'Samsung SM-A405FN' 'Samsung SM-A600FN'\n",
      " 'ANE-LX1' 'VOG-L09' 'Samsung SM-G986B' 'XiaoMi Redmi Note 4' 'ELE-L29'\n",
      " 'Samsung $2' 'Samsung SM-A320FL' 'OnePlus ONEPLUS A5000'\n",
      " 'Samsung SM-A505FN' 'Nokia undefined$2$3' 'Samsung SM-A750FN'\n",
      " 'Samsung SM-A310F' 'Samsung SM-A520F' 'OnePlus ONEPLUS A5010'\n",
      " 'Samsung SM-N975F' 'Pixel 4' 'LYA-L09' 'Samsung SM-G988B' 'VOG-L29'\n",
      " 'Samsung SM-N976B' '5008Y_EEA' 'CLT-L29' 'PRA-LX1' 'Samsung SM-J320FN'\n",
      " 'Samsung SM-J530F' 'Samsung SM-A530F' 'BKL-L09' 'Pixel 3'\n",
      " 'Samsung SM-A515F' 'Nokia$2$3' 'F8331' 'Samsung SM-A300FU'\n",
      " 'Samsung SM-G390F' 'VFD 710' 'XiaoMi Redmi 6' 'Samsung SM-G901F'\n",
      " 'OnePlus ONEPLUS A6003' 'Samsung SM-A500FU' 'Samsung SM-G900V' 'SNE-LX1'\n",
      " 'STF-L09' 'HTC 10' 'Samsung SM-J510FN' 'Samsung SM-J610FN' 'S8'\n",
      " 'XiaoMi Redmi Note 7' 'Samsung SM-G800F' 'EML-L09' 'Samsung SM-N970F'\n",
      " 'Huawei Browser' 'OnePlus ONEPLUS A6013' 'Samsung GT-I8200N'\n",
      " 'Samsung SM-A920F' 'NEM-L51' 'Samsung SM-G570F' 'Samsung SM-G925F'\n",
      " 'VFD 820' 'Asus I01WD' 'HUAWEI $2' 'OnePlus ONEPLUS A6000'\n",
      " 'Samsung SM-J710F' 'Samsung SM-G928F' 'XiaoMi Redmi 8' 'H3113' 'DUB-LX1'\n",
      " 'Pixel 2' 'Samsung GT-I9195' 'WAS-LX1A' 'F5321' 'XiaoMi MI 8 Pro'\n",
      " 'EVA-L09' 'Samsung SM-J730F' 'LYA-L29' 'VFD 500' 'YAL-L21' 'HTC U12+'\n",
      " 'Samsung SM-J330G' 'XiaoMi MI 8' 'Samsung undefined$2' 'G3311' 'G3121'\n",
      " 'DUA-L22' 'Samsung SM-G950U1' 'Samsung SM-G850F' 'Samsung SM-A107F'\n",
      " 'BBB100-2' 'VFD 610' 'XiaoMi Redmi 6A' '5099Y' 'Samsung SM-F907B'\n",
      " 'Samsung SM-N9500' 'D5503' 'Samsung SM-G977B' 'Lumia 950'\n",
      " 'Samsung GT-P5210' 'COR-L29' 'LDN-L01' 'Samsung SM-J710MN'\n",
      " 'Lenovo A7020a48' 'Samsung SM-G965U1' 'Samsung SM-N910F' 'CUBOT_X18_Plus'\n",
      " 'Samsung SM-A507FN' 'BLA-L09' 'Samsung SM-G900T' 'VTR-L09'\n",
      " 'Samsung SM-J500FN' 'moto e5 play' 'A0001' 'PCT-L29' 'Samsung SM-G925I'\n",
      " 'HTC M10h' 'Vodafone $2' 'Samsung SM-G6100' 'D5803' 'Samsung SM-A505F'\n",
      " 'Samsung SM-G986U1' 'Samsung SM-N9750' 'D6603' 'VFD 700' '6039Y'\n",
      " 'Samsung SM-N920I' 'Samsung SM-G950U' 'XiaoMi Redmi Note 8T'\n",
      " 'Samsung SM-G935U' 'Samsung SM-A105G' 'OnePlus ONE A2003'\n",
      " 'Samsung GT-I9195I' 'C2105' 'ALE-L21' 'Samsung SM-G930L' 'XT1580'\n",
      " 'Samsung SM-G973U' 'XiaoMi Redmi Note 8 Pro' 'Samsung SM-A015M'\n",
      " 'Samsung SM-G388F' 'Samsung SM-N976V' 'VFD 720' 'Samsung SM-G930U'\n",
      " 'EVR-N29' 'XiaoMi Redmi Note 8' 'F3111' 'EML-L29' 'Samsung SM-G610F'\n",
      " 'Samsung SM-A305F' 'Samsung SM-J701F' 'Samsung SM-A510F' 'IMO $2'\n",
      " 'Pixel XL' 'Samsung SM-A415F' 'Samsung SM-A217F' 'Samsung SM-A908B'\n",
      " 'BBF100-1' 'HTC U11 $2' 'E6653' 'Samsung SM-G903F' 'VKY-L09'\n",
      " 'Samsung SM-A207F' 'XiaoMi MI MAX 3' 'F3311' 'Lenovo P2a42'\n",
      " 'Samsung SM-A205G' 'Samsung SM-A605F' 'VF-795' 'VF-895N'\n",
      " 'Samsung SM-A605G' 'D6503' 'Armor_3' 'FRD-L09' 'TA-1033' 'Doro 8030'\n",
      " 'moto e5 plus' 'Samsung SM-J250F' 'Samsung SM-C9000' 'Moto$2'\n",
      " 'Samsung SM-A105F' 'ATU-L11' 'Samsung SM-N770F' 'TA-1020' 'DLI-L22'\n",
      " 'Samsung SM-A805F' 'XiaoMi Redmi Note 6 Pro' 'Samsung SM-G955U'\n",
      " 'Samsung GT-I9300' 'C6903' 'RNE-L21' 'Samsung SM-G361F' 'G3221'\n",
      " 'Samsung SM-G930T' 'Samsung SM-J510GN' 'Samsung SM-A700F' 'CPH1851' 'X13'\n",
      " 'OnePlus ONE E1003' 'Samsung SM-J810F' 'TA-1024' 'OnePlus ONEPLUS A3000'\n",
      " 'XiaoMi Redmi 3S' 'MHA-L09' 'XiaoMi MI 6' 'K7' 'Swift 2 Plus'\n",
      " 'X4_Soul_Infinity_Z' 'Samsung SM-G960U1' 'Wileyfox Swift'\n",
      " 'Samsung SM-J330F' 'PLK-L01' 'Samsung SM-A750GN' 'Samsung SM-G930V'\n",
      " 'XiaoMi Redmi 5 Plus' 'Samsung SM-J610G' 'VCE-L22' 'Samsung SM-G960U'\n",
      " 'Samsung SM-G9730' 'Samsung SM-G955U1' 'XiaoMi Redmi S2'\n",
      " 'Samsung SM-A205F' 'XiaoMi Redmi Note 5']\n"
     ]
    }
   ],
   "source": [
    "# check how many unique devices & name of devices\n",
    "print('unique devices: ',len(df.device_make.unique()))\n",
    "print(df.device_make.unique())"
   ]
  },
  {
   "cell_type": "code",
   "execution_count": 12,
   "id": "1cc4fe3d",
   "metadata": {},
   "outputs": [
    {
     "name": "stdout",
     "output_type": "stream",
     "text": [
      "56.38 %\n"
     ]
    }
   ],
   "source": [
    "# percentage of Chrome Mobile of all questionnaires\n",
    "print(np.round(100 * (df['browser'].value_counts()[:10][0] / df.shape[0]), 2), '%')6"
   ]
  },
  {
   "cell_type": "code",
   "execution_count": 13,
   "id": "d6361d2a",
   "metadata": {},
   "outputs": [
    {
     "data": {
      "text/plain": [
       "Chrome Mobile                 4554\n",
       "Chrome Mobile WebView         1489\n",
       "Samsung Internet               824\n",
       "Facebook                       764\n",
       "Mobile Safari                  337\n",
       "Chrome Mobile iOS               51\n",
       "Mobile Safari UI/WKWebView      44\n",
       "Chrome                           3\n",
       "Pinterest                        3\n",
       "Opera Mobile                     3\n",
       "Name: browser, dtype: int64"
      ]
     },
     "execution_count": 13,
     "metadata": {},
     "output_type": "execute_result"
    }
   ],
   "source": [
    "# top 10 browser\n",
    "df['browser'].value_counts()[:10]"
   ]
  },
  {
   "cell_type": "code",
   "execution_count": 14,
   "id": "2de8f0f7",
   "metadata": {},
   "outputs": [
    {
     "name": "stdout",
     "output_type": "stream",
     "text": [
      "unique browser:  15\n",
      "['Chrome Mobile' 'Chrome Mobile WebView' 'Facebook' 'Mobile Safari'\n",
      " 'Chrome Mobile iOS' 'Samsung Internet' 'Mobile Safari UI/WKWebView'\n",
      " 'Chrome' 'Opera Mini' 'Edge Mobile' 'Android' 'Pinterest' 'Opera Mobile'\n",
      " 'Firefox Mobile' 'Puffin']\n"
     ]
    }
   ],
   "source": [
    "# check how many unique browser & name of browsers\n",
    "print('unique browser: ',len(df.browser.unique()))\n",
    "print(df.browser.unique())"
   ]
  },
  {
   "cell_type": "code",
   "execution_count": 15,
   "id": "dd58bc4d",
   "metadata": {},
   "outputs": [
    {
     "name": "stdout",
     "output_type": "stream",
     "text": [
      "experiment:  2\n",
      "['exposed' 'control']\n"
     ]
    }
   ],
   "source": [
    "# check how many experiment groups\n",
    "print('experiment: ',len(df.experiment.unique()))\n",
    "print(df.experiment.unique())"
   ]
  },
  {
   "cell_type": "code",
   "execution_count": 16,
   "id": "1dc96672",
   "metadata": {},
   "outputs": [
    {
     "name": "stdout",
     "output_type": "stream",
     "text": [
      "unique samples:  8077\n",
      "experiment duration:  8 days\n"
     ]
    }
   ],
   "source": [
    "# check how many unique samples and test durations\n",
    "print('unique samples: ', df['auction_id'].nunique())\n",
    "print('experiment duration: ', df['date'].nunique(), 'days')"
   ]
  },
  {
   "cell_type": "code",
   "execution_count": 17,
   "id": "5cb317b3",
   "metadata": {},
   "outputs": [
    {
     "data": {
      "text/plain": [
       "0"
      ]
     },
     "execution_count": 17,
     "metadata": {},
     "output_type": "execute_result"
    }
   ],
   "source": [
    "# check duplicated\n",
    "df.duplicated('auction_id').sum()"
   ]
  },
  {
   "cell_type": "code",
   "execution_count": 18,
   "id": "d5a9c397",
   "metadata": {},
   "outputs": [
    {
     "name": "stdout",
     "output_type": "stream",
     "text": [
      "percentage of experiment in control:  50.4023771202179\n",
      "percentage of experiment in exposed:  49.5976228797821\n"
     ]
    }
   ],
   "source": [
    "# check if the sample sizes (control and exposed groups) are equal\n",
    "print('percentage of experiment in control: ', df[df['experiment'] == 'control'].shape[0] * 100 / df.shape[0])\n",
    "print('percentage of experiment in exposed: ', df[df['experiment'] == 'exposed'].shape[0] * 100 / df.shape[0])"
   ]
  },
  {
   "cell_type": "code",
   "execution_count": 19,
   "id": "94266f87",
   "metadata": {},
   "outputs": [
    {
     "name": "stdout",
     "output_type": "stream",
     "text": [
      "auction_id     0\n",
      "experiment     0\n",
      "date           0\n",
      "hour           0\n",
      "device_make    0\n",
      "platform_os    0\n",
      "browser        0\n",
      "yes            0\n",
      "no             0\n",
      "dtype: int64\n"
     ]
    }
   ],
   "source": [
    "# check there are any null/missing values\n",
    "null_value = df.isnull().sum()\n",
    "print(null_value)"
   ]
  },
  {
   "cell_type": "code",
   "execution_count": 20,
   "id": "feb50876",
   "metadata": {},
   "outputs": [],
   "source": [
    "# if there are any null value and will not affect the testing result\n",
    "# df.dropna()\n",
    "# in other data, if there is a huge amount of missing values, we can use 'mean' -(df.describe()) to fill it \n",
    "# df.fillna()"
   ]
  },
  {
   "cell_type": "code",
   "execution_count": 21,
   "id": "9daaafa5",
   "metadata": {},
   "outputs": [
    {
     "data": {
      "text/plain": [
       "0"
      ]
     },
     "execution_count": 21,
     "metadata": {},
     "output_type": "execute_result"
    }
   ],
   "source": [
    "# check if there are any conflict responses, and assumed there is only a single choice for 'yes' or 'no' of BIO questionnaire. \n",
    "# the output should be 0\n",
    "df[(df['yes'] == 1) & (df['no'] == 1)].shape[0]"
   ]
  },
  {
   "cell_type": "code",
   "execution_count": 22,
   "id": "fab87bfb",
   "metadata": {},
   "outputs": [
    {
     "data": {
      "text/plain": [
       "6834"
      ]
     },
     "execution_count": 22,
     "metadata": {},
     "output_type": "execute_result"
    }
   ],
   "source": [
    "# invalid questionnaires / useless responses for A/B test, \n",
    "# included user may see the BIO questionnaire but choose not to respond\n",
    "df[(df['yes'] == 0) & (df['no'] == 0)].shape[0]"
   ]
  },
  {
   "cell_type": "code",
   "execution_count": 23,
   "id": "69f19775",
   "metadata": {},
   "outputs": [
    {
     "name": "stdout",
     "output_type": "stream",
     "text": [
      "84.61 %\n"
     ]
    }
   ],
   "source": [
    "# check the percentage of invalid questionnaires / useless responses\n",
    "print(np.round(100 * df[(df['yes'] == 0) & (df['no'] == 0)].shape[0] / df.shape[0], 2), '%')"
   ]
  },
  {
   "cell_type": "code",
   "execution_count": 24,
   "id": "2d99bfbb",
   "metadata": {},
   "outputs": [
    {
     "name": "stdout",
     "output_type": "stream",
     "text": [
      "                                auction_id experiment        date  hour  \\\n",
      "2     0016d14a-ae18-4a02-a204-6ba53b52f2ed    exposed  2020-07-05     2   \n",
      "16    008aafdf-deef-4482-8fec-d98e3da054da    exposed  2020-07-04    16   \n",
      "20    00a1384a-5118-4d1b-925b-6cdada50318d    exposed  2020-07-06     8   \n",
      "23    00b6fadb-10bd-49e3-a778-290da82f7a8d    control  2020-07-08     4   \n",
      "27    00ebf4a8-060f-4b99-93ac-c62724399483    control  2020-07-03    15   \n",
      "...                                    ...        ...         ...   ...   \n",
      "8059  ffa08ff9-a132-4051-aef5-01a9c79367bc    exposed  2020-07-05    21   \n",
      "8063  ffb176df-ecd2-45d3-b05f-05b173a093a7    exposed  2020-07-04     1   \n",
      "8064  ffb79718-6f25-4896-b6b3-e58b80a6e147    control  2020-07-09     7   \n",
      "8069  ffca1153-c182-4f32-9e90-2a6008417497    control  2020-07-10    16   \n",
      "8071  ffdfdc09-48c7-4bfb-80f8-ec1eb633602b    exposed  2020-07-03     4   \n",
      "\n",
      "             device_make  platform_os                browser  yes  no  \n",
      "2                  E5823            6  Chrome Mobile WebView    0   1  \n",
      "16    Generic Smartphone            6          Chrome Mobile    1   0  \n",
      "20    Generic Smartphone            6          Chrome Mobile    0   1  \n",
      "23      Samsung SM-A202F            6               Facebook    1   0  \n",
      "27    Generic Smartphone            6          Chrome Mobile    0   1  \n",
      "...                  ...          ...                    ...  ...  ..  \n",
      "8059  Generic Smartphone            6          Chrome Mobile    1   0  \n",
      "8063  Generic Smartphone            6          Chrome Mobile    1   0  \n",
      "8064  Generic Smartphone            6          Chrome Mobile    0   1  \n",
      "8069  Generic Smartphone            6          Chrome Mobile    0   1  \n",
      "8071  Generic Smartphone            6          Chrome Mobile    0   1  \n",
      "\n",
      "[1243 rows x 9 columns]\n"
     ]
    }
   ],
   "source": [
    "# delete invalid questionnaires / useless responses, for A/B testing\n",
    "# invalid questionnaires / useless responses are not helping for A/B testing\n",
    "df_drop = df.drop(df[(df['yes'] == 0) & (df['no'] == 0)].index)\n",
    "print(df_drop)"
   ]
  },
  {
   "cell_type": "code",
   "execution_count": 25,
   "id": "b9e255e7",
   "metadata": {
    "scrolled": true
   },
   "outputs": [
    {
     "data": {
      "text/plain": [
       "1243"
      ]
     },
     "execution_count": 25,
     "metadata": {},
     "output_type": "execute_result"
    }
   ],
   "source": [
    "# numbers of valid questionnaires / useful questionnaires for A/B testing\n",
    "total_experiment = df.drop(df[(df['yes'] == 0) & (df['no'] == 0)].index).shape[0]  \n",
    "total_experiment "
   ]
  },
  {
   "cell_type": "code",
   "execution_count": 26,
   "id": "12bbf64d",
   "metadata": {},
   "outputs": [
    {
     "name": "stdout",
     "output_type": "stream",
     "text": [
      "15.0 %\n"
     ]
    }
   ],
   "source": [
    "# percentage of valid questionnaires / useful questionnaires\n",
    "print(100 * np.round(total_experiment/len(df), 2), '%')"
   ]
  },
  {
   "cell_type": "code",
   "execution_count": 27,
   "id": "3d15ab08",
   "metadata": {
    "scrolled": true
   },
   "outputs": [
    {
     "data": {
      "text/plain": [
       "auction_id     0\n",
       "experiment     0\n",
       "date           0\n",
       "hour           0\n",
       "device_make    0\n",
       "platform_os    0\n",
       "browser        0\n",
       "yes            0\n",
       "no             0\n",
       "dtype: int64"
      ]
     },
     "execution_count": 27,
     "metadata": {},
     "output_type": "execute_result"
    }
   ],
   "source": [
    "# check there are any null/missing values after deleted invalid questionnaires / useless responses\n",
    "df_drop.isnull().sum()"
   ]
  },
  {
   "cell_type": "code",
   "execution_count": 28,
   "id": "db320dd4",
   "metadata": {},
   "outputs": [
    {
     "name": "stdout",
     "output_type": "stream",
     "text": [
      "date\n",
      "2020-07-03    2015\n",
      "2020-07-04     903\n",
      "2020-07-05     890\n",
      "2020-07-06     490\n",
      "2020-07-07     480\n",
      "2020-07-08    1198\n",
      "2020-07-09    1208\n",
      "2020-07-10     893\n",
      "Name: date, dtype: int64\n"
     ]
    }
   ],
   "source": [
    "# the numbers of responses of each experiment day and the first day has more users engagement\n",
    "responses_num_day = df.groupby('date')['date'].count()\n",
    "print(responses_num_day)"
   ]
  },
  {
   "cell_type": "code",
   "execution_count": 29,
   "id": "a26e3541",
   "metadata": {},
   "outputs": [
    {
     "data": {
      "text/plain": [
       "Generic Smartphone    719\n",
       "Samsung SM-G960F       45\n",
       "Samsung SM-G950F       35\n",
       "Samsung SM-G973F       22\n",
       "Samsung SM-A202F       18\n",
       "iPhone                 18\n",
       "Samsung SM-G930F       16\n",
       "Samsung SM-G975F       15\n",
       "Samsung SM-A405FN      14\n",
       "Samsung SM-A105FN      13\n",
       "Name: device_make, dtype: int64"
      ]
     },
     "execution_count": 29,
     "metadata": {},
     "output_type": "execute_result"
    }
   ],
   "source": [
    "# top 10 device of valid questionnaires / useful questionnaires \n",
    "df_drop['device_make'].value_counts()[:10]"
   ]
  },
  {
   "cell_type": "code",
   "execution_count": 30,
   "id": "49355851",
   "metadata": {},
   "outputs": [
    {
     "data": {
      "text/plain": [
       "1243"
      ]
     },
     "execution_count": 30,
     "metadata": {},
     "output_type": "execute_result"
    }
   ],
   "source": [
    "# total device of valid questionnaires / useful questionnaires\n",
    "df_drop['device_make'].value_counts()[:].sum()"
   ]
  },
  {
   "cell_type": "code",
   "execution_count": 32,
   "id": "d5990c54",
   "metadata": {},
   "outputs": [
    {
     "name": "stdout",
     "output_type": "stream",
     "text": [
      "57.84 %\n"
     ]
    }
   ],
   "source": [
    "# percentage of Gerneric smartphone of valid questionnaires / useful questionnaires\n",
    "print(np.round(100 * df_drop['device_make'].value_counts()[:10][0] / df_drop['device_make'].value_counts()[:].sum(), 2), '%')"
   ]
  },
  {
   "cell_type": "code",
   "execution_count": 33,
   "id": "e5c448a5",
   "metadata": {},
   "outputs": [
    {
     "data": {
      "image/png": "[encoded data removed]",
      "text/plain": [
       "<Figure size 432x288 with 1 Axes>"
      ]
     },
     "metadata": {
      "needs_background": "light"
     },
     "output_type": "display_data"
    }
   ],
   "source": [
    "# a majority of users using the device is Gerneric smartphone, of valid questionnaires / useful questionnaires\n",
    "df_drop['device_make'].value_counts()[:10].plot(kind='barh');"
   ]
  },
  {
   "cell_type": "code",
   "execution_count": 34,
   "id": "ec5a3a78",
   "metadata": {
    "scrolled": true
   },
   "outputs": [
    {
     "data": {
      "text/plain": [
       "Chrome Mobile                 695\n",
       "Chrome Mobile WebView         227\n",
       "Facebook                      156\n",
       "Samsung Internet              145\n",
       "Mobile Safari                  14\n",
       "Mobile Safari UI/WKWebView      3\n",
       "Chrome                          2\n",
       "Chrome Mobile iOS               1\n",
       "Name: browser, dtype: int64"
      ]
     },
     "execution_count": 34,
     "metadata": {},
     "output_type": "execute_result"
    }
   ],
   "source": [
    "# top 10 browser of valid questionnaires / useful questionnaires \n",
    "df_drop['browser'].value_counts()[:10]"
   ]
  },
  {
   "cell_type": "code",
   "execution_count": 60,
   "id": "a6956069",
   "metadata": {},
   "outputs": [
    {
     "data": {
      "text/plain": [
       "1243"
      ]
     },
     "execution_count": 60,
     "metadata": {},
     "output_type": "execute_result"
    }
   ],
   "source": [
    "# total boreser of valid questionnaires / useful questionnaires\n",
    "df_drop['browser'].value_counts()[:].sum()"
   ]
  },
  {
   "cell_type": "code",
   "execution_count": 36,
   "id": "e9c18051",
   "metadata": {},
   "outputs": [
    {
     "name": "stdout",
     "output_type": "stream",
     "text": [
      "55.91 %\n"
     ]
    }
   ],
   "source": [
    "# percentage of Chrome Mobile of valid questionnaires / useful questionnaires\n",
    "print(np.round(100 * df_drop['browser'].value_counts()[:10][0] / df_drop['browser'].value_counts()[:].sum(), 2), '%')"
   ]
  },
  {
   "cell_type": "code",
   "execution_count": 37,
   "id": "5068ed2d",
   "metadata": {},
   "outputs": [
    {
     "data": {
      "image/png": "[encoded data removed]",
      "text/plain": [
       "<Figure size 432x288 with 1 Axes>"
      ]
     },
     "metadata": {
      "needs_background": "light"
     },
     "output_type": "display_data"
    }
   ],
   "source": [
    "# a majority of users using the browser is Chrome Mobile, of valid questionnaires / useful questionnaires\n",
    "df_drop['browser'].value_counts()[:10].plot(kind='barh');"
   ]
  },
  {
   "cell_type": "markdown",
   "id": "2582713a",
   "metadata": {},
   "source": [
    "### A/B Testing -  Z test Approach"
   ]
  },
  {
   "cell_type": "markdown",
   "id": "ed941996",
   "metadata": {},
   "source": [
    "reasons for choose Z test:\n",
    "- sample size is greater than 30 \n",
    "- data points are independent \n",
    "- sample sizes are equal"
   ]
  },
  {
   "cell_type": "markdown",
   "id": "b6dcccd4",
   "metadata": {},
   "source": [
    "#### Null Hypothesis:\n",
    "H1: p = pₒ \n",
    "\n",
    "New Ad will not increase users' engagement with their questionnaire.\n",
    "\n",
    "#### Alternative Hypothesis:\n",
    "H2: p ≠ pₒ \n",
    "\n",
    "New Ad will increase users' engagement with their questionnaire.\n",
    "\n",
    "#### Confidence Level: 95% \n",
    "#### Significance Level , α = 0.05"
   ]
  },
  {
   "cell_type": "code",
   "execution_count": 38,
   "id": "0d6f2d34",
   "metadata": {},
   "outputs": [
    {
     "data": {
      "text/plain": [
       "exposed    657\n",
       "control    586\n",
       "Name: experiment, dtype: int64"
      ]
     },
     "execution_count": 38,
     "metadata": {},
     "output_type": "execute_result"
    }
   ],
   "source": [
    "# total numbers of valid questionnaires / useful questionnaires of experiment (groups) - control & exposed\n",
    "df_drop['experiment'].value_counts()"
   ]
  },
  {
   "cell_type": "code",
   "execution_count": 39,
   "id": "29c6cf23",
   "metadata": {},
   "outputs": [
    {
     "data": {
      "text/plain": [
       "(586, 657)"
      ]
     },
     "execution_count": 39,
     "metadata": {},
     "output_type": "execute_result"
    }
   ],
   "source": [
    "# individual total numbers of control & exposed groups\n",
    "total_control = df_drop['experiment'].value_counts().control\n",
    "total_exposed = df_drop['experiment'].value_counts().exposed\n",
    "total_control,total_exposed"
   ]
  },
  {
   "cell_type": "code",
   "execution_count": 40,
   "id": "f6035528",
   "metadata": {},
   "outputs": [
    {
     "name": "stderr",
     "output_type": "stream",
     "text": [
      "C:\\Users\\sammi\\AppData\\Local\\Temp/ipykernel_8368/73786601.py:2: FutureWarning: Indexing with multiple keys (implicitly converted to a tuple of keys) will be deprecated, use a list instead.\n",
      "  experiment_groupby = df_drop.groupby('experiment')['yes','no'].sum()\n"
     ]
    },
    {
     "data": {
      "text/html": [
       "<div>\n",
       "<style scoped>\n",
       "    .dataframe tbody tr th:only-of-type {\n",
       "        vertical-align: middle;\n",
       "    }\n",
       "\n",
       "    .dataframe tbody tr th {\n",
       "        vertical-align: top;\n",
       "    }\n",
       "\n",
       "    .dataframe thead th {\n",
       "        text-align: right;\n",
       "    }\n",
       "</style>\n",
       "<table border=\"1\" class=\"dataframe\">\n",
       "  <thead>\n",
       "    <tr style=\"text-align: right;\">\n",
       "      <th></th>\n",
       "      <th>yes</th>\n",
       "      <th>no</th>\n",
       "    </tr>\n",
       "    <tr>\n",
       "      <th>experiment</th>\n",
       "      <th></th>\n",
       "      <th></th>\n",
       "    </tr>\n",
       "  </thead>\n",
       "  <tbody>\n",
       "    <tr>\n",
       "      <th>control</th>\n",
       "      <td>264</td>\n",
       "      <td>322</td>\n",
       "    </tr>\n",
       "    <tr>\n",
       "      <th>exposed</th>\n",
       "      <td>308</td>\n",
       "      <td>349</td>\n",
       "    </tr>\n",
       "  </tbody>\n",
       "</table>\n",
       "</div>"
      ],
      "text/plain": [
       "            yes   no\n",
       "experiment          \n",
       "control     264  322\n",
       "exposed     308  349"
      ]
     },
     "execution_count": 40,
     "metadata": {},
     "output_type": "execute_result"
    }
   ],
   "source": [
    "# use 'groupby' to divide 'experiment' - 'control & exposed' and 'yes or no', and show it in data frame\n",
    "experiment_groupby = df_drop.groupby('experiment')['yes','no'].sum()\n",
    "experiment_groupby"
   ]
  },
  {
   "cell_type": "code",
   "execution_count": 41,
   "id": "8987916a",
   "metadata": {},
   "outputs": [
    {
     "name": "stdout",
     "output_type": "stream",
     "text": [
      "experiment\n",
      "control    264\n",
      "exposed    308\n",
      "Name: yes, dtype: int64\n"
     ]
    }
   ],
   "source": [
    "# total numbers in 'experiment' with response 'yes'\n",
    "experiment_yes = df_drop.groupby('experiment')['yes'].sum()\n",
    "print(experiment_yes)"
   ]
  },
  {
   "cell_type": "code",
   "execution_count": 65,
   "id": "119cb090",
   "metadata": {},
   "outputs": [
    {
     "data": {
      "image/png": "[encoded data removed]",
      "text/plain": [
       "<Figure size 648x432 with 1 Axes>"
      ]
     },
     "metadata": {
      "needs_background": "light"
     },
     "output_type": "display_data"
    }
   ],
   "source": [
    "# infographic of 'experiment' groups with respone 'yes and no'\n",
    "plt.figure(figsize = (9, 6))\n",
    "sns.countplot(x = 'experiment', hue = 'yes', data = df_drop)\n",
    "plt.title('Experimental Groups With Response (yes/no)', fontsize=15)\n",
    "plt.show()\n",
    "plt.close()"
   ]
  },
  {
   "cell_type": "code",
   "execution_count": 43,
   "id": "7af5806a",
   "metadata": {},
   "outputs": [
    {
     "name": "stdout",
     "output_type": "stream",
     "text": [
      "experiment\n",
      "control    322\n",
      "exposed    349\n",
      "Name: no, dtype: int64\n"
     ]
    }
   ],
   "source": [
    "# total numbers in 'experiment' with response 'no'\n",
    "experiment_no = df_drop.groupby('experiment')['no'].sum()\n",
    "print(experiment_no)"
   ]
  },
  {
   "cell_type": "code",
   "execution_count": 44,
   "id": "7dbe3a7c",
   "metadata": {},
   "outputs": [
    {
     "data": {
      "text/plain": [
       "(264, 308)"
      ]
     },
     "execution_count": 44,
     "metadata": {},
     "output_type": "execute_result"
    }
   ],
   "source": [
    "# individual numbers in 'experiment', with response 'yes' in control & exposed groups\n",
    "control_yes = experiment_yes.iloc[0] # control\n",
    "exposed_yes = experiment_yes.iloc[1] # exposed\n",
    "control_yes, exposed_yes"
   ]
  },
  {
   "cell_type": "code",
   "execution_count": 45,
   "id": "9dc82edf",
   "metadata": {},
   "outputs": [
    {
     "name": "stdout",
     "output_type": "stream",
     "text": [
      "click through rate_control 47.14 %\n",
      "click through rate_exposed 52.86 %\n"
     ]
    }
   ],
   "source": [
    "# click through rate\n",
    "clt_control = total_control / total_experiment\n",
    "clt_exposed = total_exposed / total_experiment\n",
    "print('click through rate_control', np.round(100 * clt_control, 2), '%')\n",
    "print('click through rate_exposed', np.round(100 * clt_exposed, 2), '%')"
   ]
  },
  {
   "cell_type": "code",
   "execution_count": 46,
   "id": "d8f79136",
   "metadata": {},
   "outputs": [
    {
     "name": "stdout",
     "output_type": "stream",
     "text": [
      "click through probability_control:  45.05 %\n",
      "click through probability_exposed:  46.88 %\n"
     ]
    }
   ],
   "source": [
    "# rate of control & rate of exposed, with response 'yes', click through probability\n",
    "rate_control = control_yes / total_control\n",
    "rate_exposed = exposed_yes / total_exposed\n",
    "print('click through probability_control: ', np.round(100 * rate_control, 2), '%')\n",
    "print('click through probability_exposed: ', np.round(100 * rate_exposed, 2), '%')"
   ]
  },
  {
   "cell_type": "code",
   "execution_count": 47,
   "id": "777ff67e",
   "metadata": {},
   "outputs": [],
   "source": [
    "# Significance Level \n",
    "alpha = 0.05"
   ]
  },
  {
   "cell_type": "markdown",
   "id": "025c1e50",
   "metadata": {},
   "source": [
    "$$\\hat p_{p}=\\frac{X_{control}+X_{exp}}{N_{control}+N_{exp}}$$"
   ]
  },
  {
   "cell_type": "code",
   "execution_count": 48,
   "id": "3364a5f1",
   "metadata": {},
   "outputs": [
    {
     "data": {
      "text/plain": [
       "0.46017699115044247"
      ]
     },
     "execution_count": 48,
     "metadata": {},
     "output_type": "execute_result"
    }
   ],
   "source": [
    "# rate of control & exposed groups with response 'yes', conversion rate\n",
    "p_pooled_hat = (control_yes + exposed_yes) / total_experiment       # or (total_control + total_exposed)\n",
    "p_pooled_hat"
   ]
  },
  {
   "cell_type": "markdown",
   "id": "97c52dea",
   "metadata": {},
   "source": [
    "$$\\hat s_p^2 =\\hat p_p (1-\\hat p_p)\\cdot \\left(\\frac{1}{N_{control}}+\\frac{1}{N_{exp}}\\right)$$"
   ]
  },
  {
   "cell_type": "code",
   "execution_count": 49,
   "id": "3e4261ed",
   "metadata": {},
   "outputs": [
    {
     "data": {
      "text/plain": [
       "0.0008020185896747209"
      ]
     },
     "execution_count": 49,
     "metadata": {},
     "output_type": "execute_result"
    }
   ],
   "source": [
    "# follow along with the formula\n",
    "pooled_variance = p_pooled_hat * (1 - p_pooled_hat) * (1 / total_control + 1 / total_exposed)\n",
    "pooled_variance"
   ]
  },
  {
   "cell_type": "code",
   "execution_count": 50,
   "id": "6bf9d3e3",
   "metadata": {},
   "outputs": [
    {
     "data": {
      "text/plain": [
       "0.028319932727228023"
      ]
     },
     "execution_count": 50,
     "metadata": {},
     "output_type": "execute_result"
    }
   ],
   "source": [
    "# Standard Error, follow along with the formula\n",
    "SE = np.sqrt(pooled_variance)\n",
    "SE"
   ]
  },
  {
   "cell_type": "markdown",
   "id": "5f56477e",
   "metadata": {},
   "source": [
    "$$Z=\\frac{\\hat p_{con}-\\hat p_{exp}}{\\sqrt{\\hat s_p^2}}$$"
   ]
  },
  {
   "cell_type": "code",
   "execution_count": 51,
   "id": "67d62a23",
   "metadata": {},
   "outputs": [
    {
     "data": {
      "text/plain": [
       "-0.645680181221037"
      ]
     },
     "execution_count": 51,
     "metadata": {},
     "output_type": "execute_result"
    }
   ],
   "source": [
    "# test statsitics, follow along with the formula\n",
    "test_stat = (rate_control - rate_exposed) / SE\n",
    "test_stat"
   ]
  },
  {
   "cell_type": "code",
   "execution_count": 52,
   "id": "998fcf9e",
   "metadata": {},
   "outputs": [
    {
     "data": {
      "text/plain": [
       "1.959963984540054"
      ]
     },
     "execution_count": 52,
     "metadata": {},
     "output_type": "execute_result"
    }
   ],
   "source": [
    "# critical value using the standard normal distribution, follow along with the formula\n",
    "z_crit = norm.ppf(1 - alpha / 2)\n",
    "z_crit"
   ]
  },
  {
   "cell_type": "code",
   "execution_count": 53,
   "id": "0376018d",
   "metadata": {},
   "outputs": [
    {
     "data": {
      "text/plain": [
       "0.055506048189964116"
      ]
     },
     "execution_count": 53,
     "metadata": {},
     "output_type": "execute_result"
    }
   ],
   "source": [
    "# Margin of error, follow along with the formula\n",
    "m = SE * z_crit\n",
    "m"
   ]
  },
  {
   "cell_type": "markdown",
   "id": "101542ec",
   "metadata": {},
   "source": [
    "$$p_{value} = Pr[t\\leq Z \\text{ or } t\\geq Z]=2 \\times Pr[t \\geq Z] $$"
   ]
  },
  {
   "cell_type": "code",
   "execution_count": 54,
   "id": "03045c1b",
   "metadata": {},
   "outputs": [
    {
     "data": {
      "text/plain": [
       "1.4815135017801033"
      ]
     },
     "execution_count": 54,
     "metadata": {},
     "output_type": "execute_result"
    }
   ],
   "source": [
    "# two sided test and using symmetry property of Normal distibution so we multiple with 2, follow along with the formula\n",
    "p_value = norm.sf(test_stat) * 2\n",
    "p_value"
   ]
  },
  {
   "cell_type": "code",
   "execution_count": 55,
   "id": "03239f7e",
   "metadata": {},
   "outputs": [
    {
     "data": {
      "text/plain": [
       "[-0.07379166748544828, 0.03722042889447995]"
      ]
     },
     "execution_count": 55,
     "metadata": {},
     "output_type": "execute_result"
    }
   ],
   "source": [
    "# Confidence Interval, follow along with the formula\n",
    "CI = [(rate_control - rate_exposed) -SE * z_crit, (rate_control - rate_exposed) + SE * z_crit]\n",
    "CI"
   ]
  },
  {
   "cell_type": "code",
   "execution_count": 66,
   "id": "9506f5e9",
   "metadata": {},
   "outputs": [
    {
     "name": "stdout",
     "output_type": "stream",
     "text": [
      "We can not reject the null hypothesis\n"
     ]
    }
   ],
   "source": [
    "# check if the absolute test_stat number >= z_crit \n",
    "if np.abs(test_stat) >= z_crit:\n",
    "    print('reject the null hypothesis')\n",
    "elif p_value > alpha:\n",
    "    print('We can not reject the null hypothesis')\n",
    "else:\n",
    "    print('We can not reject the null hypothesis')"
   ]
  },
  {
   "cell_type": "code",
   "execution_count": 57,
   "id": "b8812747",
   "metadata": {},
   "outputs": [
    {
     "name": "stdout",
     "output_type": "stream",
     "text": [
      "test statistics stat:  -0.6457\n",
      "z_critical:  1.96\n",
      "p_value:  1.4815\n",
      "Confidence Interval of 2 sample Z-test for proportions:  [-0.0738  0.0372]\n"
     ]
    }
   ],
   "source": [
    "print('test statistics stat: ', np.round(test_stat, 4))\n",
    "print('z_critical: ', np.round(z_crit, 4))\n",
    "print('p_value: ', np.round(p_value, 4))\n",
    "print('Confidence Interval of 2 sample Z-test for proportions: ', np.round(CI, 4))"
   ]
  },
  {
   "cell_type": "code",
   "execution_count": 58,
   "id": "78640781",
   "metadata": {},
   "outputs": [
    {
     "data": {
      "image/png": "[encoded data removed]",
      "text/plain": [
       "<Figure size 432x288 with 1 Axes>"
      ]
     },
     "metadata": {
      "needs_background": "light"
     },
     "output_type": "display_data"
    }
   ],
   "source": [
    "z = np.arange(-3, 3, 0.1)\n",
    "plt.plot(z, norm.pdf(z), label = 'Standard Normal Distribution', color = 'purple')\n",
    "plt.fill_between(z[z > z_crit], norm.pdf(z[z > z_crit]), label = 'Right Rejection Region', color ='pink' )\n",
    "plt.fill_between(z[z < (-1) * z_crit], norm.pdf(z[z < (-1) * z_crit]), label = 'Left Rejection Region', color ='pink' )\n",
    "plt.title('Two Sample Z-test rejection region')\n",
    "plt.legend()\n",
    "plt.show()"
   ]
  },
  {
   "cell_type": "code",
   "execution_count": 59,
   "id": "504dc9e7",
   "metadata": {},
   "outputs": [
    {
     "data": {
      "text/plain": [
       "<BarContainer object of 200 artists>"
      ]
     },
     "execution_count": 59,
     "metadata": {},
     "output_type": "execute_result"
    },
    {
     "data": {
      "image/png": "[encoded data removed]",
      "text/plain": [
       "<Figure size 432x288 with 1 Axes>"
      ]
     },
     "metadata": {
      "needs_background": "light"
     },
     "output_type": "display_data"
    }
   ],
   "source": [
    "clicks = np.arange(200,400)\n",
    "prob_control = binom(total_control, rate_control).pmf(clicks)\n",
    "prob_exposed = binom(total_exposed, rate_exposed).pmf(clicks)\n",
    "plt.bar(clicks, prob_control, label='A', alpha=1) \n",
    "plt.bar(clicks, prob_exposed, label='B', alpha=0.6)"
   ]
  },
  {
   "cell_type": "markdown",
   "id": "45797f26",
   "metadata": {},
   "source": [
    "### Facts"
   ]
  },
  {
   "cell_type": "markdown",
   "id": "03b0ba9a",
   "metadata": {},
   "source": [
    "- experiment duration:  8 days\n",
    "- unique users' devices:  269\n",
    "- unique users' browser:  15\n",
    "\n",
    "\n",
    "- experiment:  2, (exposed, control)\n",
    "- unique samples:  8077\n",
    "- percentage of experiment in control:  50.4 %\n",
    "- percentage of experiment in exposed:  49.6 %\n",
    "\n",
    "\n",
    "- invalid questionnaires / useless responses: 6834\n",
    "- percentage of invalid questionnaires / useless responses: 84.61 %                      \n",
    "  (included users may see the BIO questionnaire but choose not to respond) \n",
    "  \n",
    "\n",
    "\n",
    "\n",
    "- valid questionnaires / useful questionnaires:1243\n",
    "- percentage of valid questionnaires / useful questionnaires: 15.38 %"
   ]
  },
  {
   "cell_type": "markdown",
   "id": "9df09fc0",
   "metadata": {},
   "source": [
    "### Findings"
   ]
  },
  {
   "cell_type": "markdown",
   "id": "ee6ffb7c",
   "metadata": {},
   "source": [
    "#### Based on all samples (8077)\n",
    "- the first day of questionnaire has more users engagement\n",
    "- a majority 58.7 % of users using the device -> Gerneric smartphone (4743)\n",
    "- a majority 56.4 % of users using the browser -> Chrome Mobile (4554)\n",
    "\n",
    "#### Based on valid questionnaires / useful questionnaires (1243)\n",
    "- a majority 57.8 % of users using the device -> Gerneric smartphone (719)\n",
    "- a majority 55.9 % of users using the browser -> Chrome Mobile (695)\n"
   ]
  },
  {
   "cell_type": "markdown",
   "id": "64102149",
   "metadata": {},
   "source": [
    "### Conclusion of A/B testing, Z test"
   ]
  },
  {
   "cell_type": "markdown",
   "id": "63a1eed0",
   "metadata": {},
   "source": [
    "- Absolute test statistics number 0.645 is less than z_critical 1.959,  \n",
    "   and p_value 1.481 is greater than the significance level 0.05. \n",
    "\n",
    "\n",
    "- Which means we do not have enough evidence to reject the null hypothesis. \n",
    "\n",
    "   In other words, this new AD will not increase users' engagement with their questionnaires, and it is not beneficial / unprofitable to the company."
   ]
  }
 ],
 "metadata": {
  "kernelspec": {
   "display_name": "Python 3 (ipykernel)",
   "language": "python",
   "name": "python3"
  },
  "language_info": {
   "codemirror_mode": {
    "name": "ipython",
    "version": 3
   },
   "file_extension": ".py",
   "mimetype": "text/x-python",
   "name": "python",
   "nbconvert_exporter": "python",
   "pygments_lexer": "ipython3",
   "version": "3.9.7"
  }
 },
 "nbformat": 4,
 "nbformat_minor": 5
}
